{
 "cells": [
  {
   "cell_type": "code",
   "execution_count": 1,
   "metadata": {},
   "outputs": [
    {
     "name": "stdout",
     "output_type": "stream",
     "text": [
      "<pyHGT.data.Graph object at 0x7fa5553ca0b8>\n"
     ]
    }
   ],
   "source": [
    "from pyHGT.data import *\n",
    "\n",
    "with open(\"./dataset/oag_output/graph_NN.pk\",'rb') as fp:\n",
    "\tgraph = renamed_load(fp)\n",
    "\tprint(graph)"
   ]
  },
  {
   "cell_type": "code",
   "execution_count": 23,
   "metadata": {},
   "outputs": [
    {
     "data": {
      "text/plain": [
       "{2005: True,\n",
       " 2006: True,\n",
       " 2011: True,\n",
       " 2007: True,\n",
       " 2004: True,\n",
       " 2009: True,\n",
       " 2008: True,\n",
       " 1996: True,\n",
       " 2019: True,\n",
       " 1991: True,\n",
       " 2012: True,\n",
       " 2001: True,\n",
       " 1999: True,\n",
       " 1976: True,\n",
       " 1994: True,\n",
       " 2003: True,\n",
       " 2017: True,\n",
       " 1993: True,\n",
       " 2015: True,\n",
       " 2000: True,\n",
       " 1997: True,\n",
       " 2010: True,\n",
       " 1992: True,\n",
       " 1978: True,\n",
       " 2014: True,\n",
       " 2013: True,\n",
       " 2016: True,\n",
       " 1975: True,\n",
       " 1998: True,\n",
       " 1990: True,\n",
       " 1977: True,\n",
       " 1979: True,\n",
       " 2018: True,\n",
       " 1983: True,\n",
       " 1974: True,\n",
       " 1995: True,\n",
       " 1980: True,\n",
       " 1989: True,\n",
       " 1988: True,\n",
       " 1986: True,\n",
       " 1969: True,\n",
       " 1982: True,\n",
       " 1970: True,\n",
       " 1981: True,\n",
       " 1987: True,\n",
       " 2002: True,\n",
       " 1972: True,\n",
       " 1985: True,\n",
       " 2020: True,\n",
       " 1973: True,\n",
       " 1984: True,\n",
       " 1961: True,\n",
       " 1971: True,\n",
       " 1962: True,\n",
       " 1952: True,\n",
       " 1965: True,\n",
       " 1960: True,\n",
       " 1955: True,\n",
       " 1956: True,\n",
       " 1964: True,\n",
       " 1966: True,\n",
       " 1954: True,\n",
       " 1968: True,\n",
       " 1967: True,\n",
       " 1958: True,\n",
       " 1963: True,\n",
       " 1946: True,\n",
       " 1959: True,\n",
       " 1957: True,\n",
       " 1930: True,\n",
       " 1938: True,\n",
       " 1950: True,\n",
       " 1951: True,\n",
       " 1922: True,\n",
       " 1948: True,\n",
       " 1953: True,\n",
       " None: True}"
      ]
     },
     "execution_count": 23,
     "metadata": {},
     "output_type": "execute_result"
    }
   ],
   "source": [
    "graph.times"
   ]
  }
 ],
 "metadata": {
  "kernelspec": {
   "display_name": "hetero_hro",
   "language": "python",
   "name": "python3"
  },
  "language_info": {
   "codemirror_mode": {
    "name": "ipython",
    "version": 3
   },
   "file_extension": ".py",
   "mimetype": "text/x-python",
   "name": "python",
   "nbconvert_exporter": "python",
   "pygments_lexer": "ipython3",
   "version": "3.6.13"
  },
  "orig_nbformat": 4
 },
 "nbformat": 4,
 "nbformat_minor": 2
}
